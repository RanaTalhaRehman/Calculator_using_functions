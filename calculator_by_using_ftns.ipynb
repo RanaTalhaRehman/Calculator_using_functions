{
 "cells": [
  {
   "cell_type": "markdown",
   "metadata": {},
   "source": [
    "# Simple Calculator by using Functions.\n",
    "## Functions of Calculator:\n",
    "Addition, Subtract, Multiplication, Division, Power, Quotient and Reminder.\n"
   ]
  },
  {
   "cell_type": "code",
   "execution_count": 20,
   "metadata": {},
   "outputs": [],
   "source": [
    "# functions\n",
    "\n",
    "# for addition\n",
    "def add(x, y):\n",
    "  return x + y\n",
    "\n",
    "# for subtraction\n",
    "def subtract(x, y):\n",
    "  return x - y\n",
    "\n",
    "# for multiplication\n",
    "def multiply(x, y):\n",
    "  return x * y\n",
    "\n",
    "# for division\n",
    "def divide(x, y):\n",
    "  if y == 0:\n",
    "    return \"Division by zero = infinity (error).\"\n",
    "  return x / y\n",
    "\n",
    "# for power(x, y)\n",
    "def power(x, y):\n",
    "  return x ** y\n",
    "\n",
    "# for Quotient\n",
    "def quotient(x, y):\n",
    "  return x // y\n",
    "\n",
    "# for reminder\n",
    "def reminder(x,y):\n",
    "  return x % y"
   ]
  },
  {
   "cell_type": "code",
   "execution_count": 21,
   "metadata": {},
   "outputs": [
    {
     "name": "stdout",
     "output_type": "stream",
     "text": [
      "select the operation (1-8): \n",
      "  1 for Addition, \n",
      "  2 for Subtract, \n",
      "  3 for Multiplication, \n",
      "  4 for Division, \n",
      "  5 for Power, \n",
      "  6 for Quotient, \n",
      "  7 for Reminder and \n",
      "  8 for Exit\n",
      "Addition:\t 3.0 + 5.0 = 8.0\n",
      "Subtraction:\t 5.0 - 3.0 = 2.0\n",
      "Multiplication:\t 3.0 * 5.0 = 15.0\n",
      "Division:\t 5.0 / 4.0 = 1.25\n",
      "Division:\t 5.0 / 0.0 = Division by zero = infinity (error).\n",
      "Quotient:\t 5.0 // 3.0 = 1.0\n",
      "Remainder:\t 5.0 % 3.0 = 2.0\n",
      "Power:\t 5.0 ** 3.0 = 125.0\n"
     ]
    }
   ],
   "source": [
    "print ('''select the operation (1-8): \n",
    "  1 for Addition, \n",
    "  2 for Subtract, \n",
    "  3 for Multiplication, \n",
    "  4 for Division, \n",
    "  5 for Power, \n",
    "  6 for Quotient, \n",
    "  7 for Reminder and \n",
    "  8 for Exit''')\n",
    "while True:\n",
    "  choice = int (input ('select the operation (1-8)= '))\n",
    "\n",
    "  if choice in (1, 2, 3, 4, 5, 6, 7):\n",
    "    try:\n",
    "      num1 = float(input(\"Enter first number= \"))\n",
    "      num2 = float(input(\"Enter second number= \"))\n",
    "    except ValueError:\n",
    "      print(\"Invalid input. Please enter numbers only.\")\n",
    "      continue\n",
    "\n",
    "    if choice == 1:\n",
    "      print(\"Addition:\\t\", num1, \"+\", num2, \"=\", add(num1, num2))\n",
    "\n",
    "    elif choice == 2:\n",
    "      print(\"Subtraction:\\t\", num1, \"-\", num2, \"=\", subtract(num1, num2))\n",
    "\n",
    "    elif choice == 3:\n",
    "      print(\"Multiplication:\\t\", num1, \"*\", num2, \"=\", multiply(num1, num2))\n",
    "\n",
    "    elif choice == 4:\n",
    "      print(\"Division:\\t\", num1, \"/\", num2, \"=\", divide(num1, num2))\n",
    "\n",
    "    elif choice == 5:\n",
    "      print(\"Power:\\t\", num1, \"**\", num2, \"=\", power(num1, num2))\n",
    "\n",
    "    elif choice == 6:\n",
    "      print(\"Quotient:\\t\", num1, \"//\", num2, \"=\", quotient(num1, num2))\n",
    "\n",
    "    elif choice == 7:\n",
    "      print(\"Remainder:\\t\", num1, \"%\", num2, \"=\", reminder(num1, num2))\n",
    "\n",
    "\n",
    "  elif choice == 8:\n",
    "    break\n",
    "  else:\n",
    "    print(\"Invalid Input\")"
   ]
  }
 ],
 "metadata": {
  "kernelspec": {
   "display_name": "Python 3",
   "language": "python",
   "name": "python3"
  },
  "language_info": {
   "codemirror_mode": {
    "name": "ipython",
    "version": 3
   },
   "file_extension": ".py",
   "mimetype": "text/x-python",
   "name": "python",
   "nbconvert_exporter": "python",
   "pygments_lexer": "ipython3",
   "version": "3.12.4"
  }
 },
 "nbformat": 4,
 "nbformat_minor": 2
}
